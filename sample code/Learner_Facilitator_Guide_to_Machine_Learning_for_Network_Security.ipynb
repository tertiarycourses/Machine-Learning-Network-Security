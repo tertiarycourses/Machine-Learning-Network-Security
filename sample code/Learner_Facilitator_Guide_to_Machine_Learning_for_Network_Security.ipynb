{
  "nbformat": 4,
  "nbformat_minor": 0,
  "metadata": {
    "colab": {
      "name": "Learner/Facilitator Guide to Machine Learning for Network Security.ipynb",
      "provenance": []
    },
    "kernelspec": {
      "name": "python3",
      "display_name": "Python 3"
    },
    "language_info": {
      "name": "python"
    }
  },
  "cells": [
    {
      "cell_type": "markdown",
      "metadata": {
        "id": "agoaSVHcT020"
      },
      "source": [
        "# Learner/Facilitator Guide to Machine Learning for Network Security"
      ]
    },
    {
      "cell_type": "markdown",
      "metadata": {
        "id": "E3oSIm6VP4xb"
      },
      "source": [
        "## Intrusion Detection System"
      ]
    },
    {
      "cell_type": "code",
      "metadata": {
        "id": "QyzwszD4DE0J"
      },
      "source": [
        "import pandas as pd\n",
        "import numpy as np\n",
        "np.random.seed(1337)  # for reproducibility\n",
        "from keras.models import Sequential\n",
        "from keras.layers import Dense, Dropout\n",
        "\n",
        "from sklearn.preprocessing import Normalizer"
      ],
      "execution_count": null,
      "outputs": []
    },
    {
      "cell_type": "markdown",
      "metadata": {
        "id": "d1ft7PzFNzbF"
      },
      "source": [
        "### Import and Preprocess the Data"
      ]
    },
    {
      "cell_type": "code",
      "metadata": {
        "id": "m-Qx7TqcNM0e"
      },
      "source": [
        "traindata = pd.read_csv('Training.csv', header=None)\n",
        "testdata = pd.read_csv('Testing.csv', header=None)\n",
        "\n",
        "X = traindata.iloc[:,1:42]\n",
        "Y = traindata.iloc[:,0]\n",
        "\n",
        "T = testdata.iloc[:,1:42]\n",
        "C = testdata.iloc[:,0]\n",
        "\n",
        "trainX = np.array(X)\n",
        "testT = np.array(T)\n",
        "\n",
        "trainX.astype(float)\n",
        "testT.astype(float)"
      ],
      "execution_count": null,
      "outputs": []
    },
    {
      "cell_type": "code",
      "metadata": {
        "id": "3E4gD7ysNPzL"
      },
      "source": [
        "scaler = Normalizer().fit(trainX)\n",
        "trainX = scaler.transform(trainX)\n",
        "\n",
        "scaler = Normalizer().fit(testT)\n",
        "testT = scaler.transform(testT)\n",
        "\n",
        "X_train = np.array(trainX)\n",
        "X_test = np.array(testT)\n",
        "\n",
        "y_train = np.array(Y)\n",
        "y_test = np.array(C)"
      ],
      "execution_count": null,
      "outputs": []
    },
    {
      "cell_type": "markdown",
      "metadata": {
        "id": "-epWGvAlPV0w"
      },
      "source": [
        "### Define the Model"
      ]
    },
    {
      "cell_type": "code",
      "metadata": {
        "id": "sVV2BVfmNWCK"
      },
      "source": [
        "model = Sequential()\n",
        "model.add(Dense(32,input_dim=41,activation='relu'))  \n",
        "model.add(Dense(32,activation='relu'))\n",
        "model.add(Dense(1,activation='sigmoid'))"
      ],
      "execution_count": null,
      "outputs": []
    },
    {
      "cell_type": "markdown",
      "metadata": {
        "id": "zTX5sIxOPYHB"
      },
      "source": [
        "### Train the Model"
      ]
    },
    {
      "cell_type": "code",
      "metadata": {
        "id": "dmwLi5zwDFbI"
      },
      "source": [
        "batch_size = 64\n",
        "epochs = 10\n",
        "\n",
        "model.compile(loss='binary_crossentropy',optimizer='adam',metrics=['accuracy'])\n",
        "model.fit(X_train, y_train, batch_size=batch_size, epochs=epochs,shuffle=True)\n"
      ],
      "execution_count": null,
      "outputs": []
    },
    {
      "cell_type": "markdown",
      "metadata": {
        "id": "0HK2tVepPo1i"
      },
      "source": [
        "### Evaluate the Model"
      ]
    },
    {
      "cell_type": "code",
      "metadata": {
        "id": "W6E0uYCfNdZi"
      },
      "source": [
        "model.evaluate(X_test,y_test)"
      ],
      "execution_count": null,
      "outputs": []
    },
    {
      "cell_type": "markdown",
      "metadata": {
        "id": "l5Iv6ZblPs3_"
      },
      "source": [
        "## Activity: Intrusion Detection System"
      ]
    },
    {
      "cell_type": "code",
      "metadata": {
        "id": "0ozSeFGeO--l"
      },
      "source": [
        "import pandas as pd\n",
        "import numpy as np\n",
        "np.random.seed(1337)  # for reproducibility\n",
        "from keras.models import Sequential\n",
        "from keras.layers import Dense, Dropout\n",
        "\n",
        "from sklearn.preprocessing import Normalizer"
      ],
      "execution_count": null,
      "outputs": []
    },
    {
      "cell_type": "markdown",
      "metadata": {
        "id": "Mk___bOeQClE"
      },
      "source": [
        "### Import and Preprocess the Data"
      ]
    },
    {
      "cell_type": "code",
      "metadata": {
        "id": "g_ZIgdvJPzQT"
      },
      "source": [
        "traindata = pd.read_csv('Training.csv', header=None)\n",
        "testdata = pd.read_csv('Testing.csv', header=None)\n",
        "\n",
        "X = traindata.iloc[:,1:42]\n",
        "Y = traindata.iloc[:,0]\n",
        "\n",
        "T = testdata.iloc[:,1:42]\n",
        "C = testdata.iloc[:,0]\n",
        "\n",
        "trainX = np.array(X)\n",
        "testT = np.array(T)\n",
        "\n",
        "trainX.astype(float)\n",
        "testT.astype(float)"
      ],
      "execution_count": null,
      "outputs": []
    },
    {
      "cell_type": "code",
      "metadata": {
        "id": "eCBGuTpqP03A"
      },
      "source": [
        "scaler = Normalizer().fit(trainX)\n",
        "trainX = scaler.transform(trainX)\n",
        "\n",
        "scaler = Normalizer().fit(testT)\n",
        "testT = scaler.transform(testT)\n",
        "\n",
        "X_train = np.array(trainX)\n",
        "X_test = np.array(testT)\n",
        "\n",
        "y_train = np.array(Y)\n",
        "y_test = np.array(C)"
      ],
      "execution_count": null,
      "outputs": []
    },
    {
      "cell_type": "markdown",
      "metadata": {
        "id": "8h2sPz6KQGdo"
      },
      "source": [
        "### Define the Model"
      ]
    },
    {
      "cell_type": "code",
      "metadata": {
        "id": "c9q4ELYcP2js"
      },
      "source": [
        "model = Sequential()\n",
        "model.add(Dense(32,input_dim=41,activation='relu'))  \n",
        "model.add(Dense(32,activation='relu'))\n",
        "model.add(Dense(32,activation='relu'))  \n",
        "model.add(Dense(1,activation='sigmoid'))\n"
      ],
      "execution_count": null,
      "outputs": []
    },
    {
      "cell_type": "markdown",
      "metadata": {
        "id": "wrmEim3XQbzG"
      },
      "source": [
        "### Train the Model"
      ]
    },
    {
      "cell_type": "code",
      "metadata": {
        "id": "hA3kk48_QdQs"
      },
      "source": [
        "batch_size = 64\n",
        "epochs = 10\n",
        "\n",
        "model.compile(loss='binary_crossentropy',optimizer='adam',metrics=['accuracy'])\n",
        "model.fit(X_train, y_train, batch_size=batch_size, epochs=epochs,shuffle=True)"
      ],
      "execution_count": null,
      "outputs": []
    },
    {
      "cell_type": "markdown",
      "metadata": {
        "id": "kAYiejOsQgC6"
      },
      "source": [
        "### Evaluate the Model"
      ]
    },
    {
      "cell_type": "code",
      "metadata": {
        "id": "DG3FutUJQiXD"
      },
      "source": [
        "model.evaluate(X_test,y_test)"
      ],
      "execution_count": null,
      "outputs": []
    },
    {
      "cell_type": "code",
      "metadata": {
        "id": "qqw2Jd66S3R_"
      },
      "source": [
        ""
      ],
      "execution_count": null,
      "outputs": []
    }
  ]
}